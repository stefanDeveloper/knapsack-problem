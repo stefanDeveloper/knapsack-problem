{
 "metadata": {
  "language_info": {
   "codemirror_mode": {
    "name": "ipython",
    "version": 3
   },
   "file_extension": ".py",
   "mimetype": "text/x-python",
   "name": "python",
   "nbconvert_exporter": "python",
   "pygments_lexer": "ipython3",
   "version": "3.9.5"
  },
  "orig_nbformat": 2,
  "kernelspec": {
   "name": "python395jvsc74a57bd0aee8b7b246df8f9039afb4144a1f6fd8d2ca17a180786b69acc140d282b71a49",
   "display_name": "Python 3.9.5 64-bit"
  },
  "metadata": {
   "interpreter": {
    "hash": "aee8b7b246df8f9039afb4144a1f6fd8d2ca17a180786b69acc140d282b71a49"
   }
  }
 },
 "nbformat": 4,
 "nbformat_minor": 2,
 "cells": [
  {
   "source": [
    "# Algorithm on Discrete Structures - Knapsack Problem\n",
    "\n",
    "Seminar Heidelberg University\n",
    "\n",
    "Stefan Machmeier"
   ],
   "cell_type": "markdown",
   "metadata": {}
  },
  {
   "cell_type": "code",
   "execution_count": 167,
   "metadata": {},
   "outputs": [],
   "source": [
    "import numpy as np\n",
    "import pandas as pd\n",
    "import math\n",
    "from numpy import inf\n",
    "\n",
    "pd.set_option('display.max_rows', 500)\n",
    "pd.set_option('display.max_columns', 500)\n",
    "pd.set_option('display.width', 1000)"
   ]
  },
  {
   "source": [
    "## Greedy Algorithm Fractional Knapsack"
   ],
   "cell_type": "markdown",
   "metadata": {}
  },
  {
   "cell_type": "code",
   "execution_count": 168,
   "metadata": {},
   "outputs": [],
   "source": [
    "def greedy_fractional_knapsack(W, c, w):\n",
    "\n",
    "    assert c.shape == w.shape\n",
    "    assert W <= w.sum()\n",
    "\n",
    "    ratios = [(index, c / float(w)) for index, (c, w) in enumerate(zip(c,w))]\n",
    "    ratios = sorted(ratios, key=lambda x: x[1], reverse=True)\n",
    "\n",
    "    x = np.zeros(w.shape)\n",
    "    total_weight = 0\n",
    "\n",
    "    for index, ratio in ratios:\n",
    "        if total_weight + w[index] <= W:\n",
    "            x[index] = 1\n",
    "            total_weight += w[index]\n",
    "        else:            \n",
    "            x[index] = (W - total_weight) / w[index]\n",
    "\n",
    "    return x"
   ]
  },
  {
   "source": [
    "## Greedy Algorithm Knapsack"
   ],
   "cell_type": "markdown",
   "metadata": {}
  },
  {
   "cell_type": "code",
   "execution_count": 169,
   "metadata": {},
   "outputs": [],
   "source": [
    "def greedy_knapsack(W, c, w):\n",
    "\n",
    "    assert c.shape == w.shape\n",
    "    assert W <= w.sum()\n",
    "\n",
    "    ratios = [(index, c / float(w)) for index, (c, w) in enumerate(zip(c,w))]\n",
    "    ratios = sorted(ratios, key=lambda x: x[1], reverse=True)\n",
    "\n",
    "    x = np.zeros(w.shape)\n",
    "    x_total_weight = 0\n",
    "\n",
    "    y = np.zeros(w.shape)\n",
    "    y_total_weight = 0\n",
    "\n",
    "    for index, ratio in ratios:\n",
    "        if x_total_weight + w[index] <= W:\n",
    "            x[index] = 1\n",
    "            x_total_weight += w[index]\n",
    "        else:\n",
    "            y[index] = 1\n",
    "            y_total_weight += w[index]\n",
    "\n",
    "    if x_total_weight >= y_total_weight:\n",
    "        return x\n",
    "    else:\n",
    "        return y"
   ]
  },
  {
   "cell_type": "code",
   "execution_count": 170,
   "metadata": {},
   "outputs": [
    {
     "output_type": "execute_result",
     "data": {
      "text/plain": [
       "array([1., 0., 1., 1.])"
      ]
     },
     "metadata": {},
     "execution_count": 170
    }
   ],
   "source": [
    "c = [2,1,3,2]\n",
    "c = np.array(c)\n",
    "w = [1,3,4,2]\n",
    "w = np.array(w)\n",
    "W = 8\n",
    "\n",
    "\n",
    "greedy_knapsack(W, c, w)\n",
    "#greedy_fractional_knapsack(W, c, w)"
   ]
  },
  {
   "source": [
    "## Dynamic Programming Knapsack"
   ],
   "cell_type": "markdown",
   "metadata": {}
  },
  {
   "cell_type": "code",
   "execution_count": 171,
   "metadata": {},
   "outputs": [],
   "source": [
    "def dynamic_knapsack(W, C, w, c):\n",
    "    (n, ) = w.shape\n",
    "    m = np.zeros((n + 1,C + 1))\n",
    "    x = np.zeros((n + 1,C + 1))\n",
    "\n",
    "    m[0,] = float('inf')\n",
    "    m[0,0] = 0\n",
    "\n",
    "    for j in range(1, n + 1):\n",
    "        j_bar = j -1\n",
    "        for k in range(C + 1):\n",
    "            x[j,k] = 0\n",
    "            m[j,k] = m[j-1, k]\n",
    "        for k in range(c[j_bar], C + 1):\n",
    "            print(f'm[{j-1}, {k-c[j_bar]}]: {m[j-1, k-c[j_bar]]} + {w[j_bar]} <= min({W},{m[j,k]})')\n",
    "            if (m[j-1, k-c[j_bar]] + w[j_bar]) <= min(W, m[j,k]):\n",
    "                m[j,k] = m[j-1, k-c[j_bar]] + w[j_bar]\n",
    "                x[j,k] = 1\n",
    "            print(f'm[{j},{k}] : {m[j,k]}')\n",
    "\n",
    "    m[m == inf] = -1\n",
    "    result = np.where(m == np.amax(m))\n",
    "    coor = list(zip(result[0], result[1]))\n",
    "\n",
    "    k = coor[-1][1]\n",
    "    items = []\n",
    "\n",
    "    while n > 0:\n",
    "        print(f'Check x[{n}, {k}]: {x[n, k]}')\n",
    "        item = 0\n",
    "        if x[n, k] == 1:\n",
    "            print(f'Include item: {n}')\n",
    "            item = 1\n",
    "            k -= c[n-1]\n",
    "        items.append(item)\n",
    "        n -= 1\n",
    "        \n",
    "    return coor[-1][1], m, x, np.array(items)[::-1]"
   ]
  },
  {
   "source": [
    "c = [2,1,3,2]\n",
    "c = np.array(c)\n",
    "w = [1,3,4,2]\n",
    "w = np.array(w)\n",
    "W = 8\n",
    "C = np.sum(c)\n",
    "\n",
    "\n",
    "profit, m, x, items = dynamic_knapsack(W, C, w, c)\n",
    "print(f'Maximum profit is {profit}')\n",
    "print(f'Maximum capacity is {np.amax(m)}')\n",
    "print(f'Selected items are {items}')"
   ],
   "cell_type": "code",
   "metadata": {},
   "execution_count": 172,
   "outputs": [
    {
     "output_type": "stream",
     "name": "stdout",
     "text": [
      "m[0, 0]: 0.0 + 1 <= min(8,inf)\nm[1,2] : 1.0\nm[0, 1]: inf + 1 <= min(8,inf)\nm[1,3] : inf\nm[0, 2]: inf + 1 <= min(8,inf)\nm[1,4] : inf\nm[0, 3]: inf + 1 <= min(8,inf)\nm[1,5] : inf\nm[0, 4]: inf + 1 <= min(8,inf)\nm[1,6] : inf\nm[0, 5]: inf + 1 <= min(8,inf)\nm[1,7] : inf\nm[0, 6]: inf + 1 <= min(8,inf)\nm[1,8] : inf\nm[1, 0]: 0.0 + 3 <= min(8,inf)\nm[2,1] : 3.0\nm[1, 1]: inf + 3 <= min(8,1.0)\nm[2,2] : 1.0\nm[1, 2]: 1.0 + 3 <= min(8,inf)\nm[2,3] : 4.0\nm[1, 3]: inf + 3 <= min(8,inf)\nm[2,4] : inf\nm[1, 4]: inf + 3 <= min(8,inf)\nm[2,5] : inf\nm[1, 5]: inf + 3 <= min(8,inf)\nm[2,6] : inf\nm[1, 6]: inf + 3 <= min(8,inf)\nm[2,7] : inf\nm[1, 7]: inf + 3 <= min(8,inf)\nm[2,8] : inf\nm[2, 0]: 0.0 + 4 <= min(8,4.0)\nm[3,3] : 4.0\nm[2, 1]: 3.0 + 4 <= min(8,inf)\nm[3,4] : 7.0\nm[2, 2]: 1.0 + 4 <= min(8,inf)\nm[3,5] : 5.0\nm[2, 3]: 4.0 + 4 <= min(8,inf)\nm[3,6] : 8.0\nm[2, 4]: inf + 4 <= min(8,inf)\nm[3,7] : inf\nm[2, 5]: inf + 4 <= min(8,inf)\nm[3,8] : inf\nm[3, 0]: 0.0 + 2 <= min(8,1.0)\nm[4,2] : 1.0\nm[3, 1]: 3.0 + 2 <= min(8,4.0)\nm[4,3] : 4.0\nm[3, 2]: 1.0 + 2 <= min(8,7.0)\nm[4,4] : 3.0\nm[3, 3]: 4.0 + 2 <= min(8,5.0)\nm[4,5] : 5.0\nm[3, 4]: 7.0 + 2 <= min(8,8.0)\nm[4,6] : 8.0\nm[3, 5]: 5.0 + 2 <= min(8,inf)\nm[4,7] : 7.0\nm[3, 6]: 8.0 + 2 <= min(8,inf)\nm[4,8] : inf\nCheck x[4, 6]: 0.0\nCheck x[3, 6]: 1.0\nInclude item: 3\nCheck x[2, 3]: 1.0\nInclude item: 2\nCheck x[1, 2]: 1.0\nInclude item: 1\nMaximum profit is 6\nMaximum capacity is 8.0\nSelected items are [1 1 1 0]\n"
     ]
    }
   ]
  },
  {
   "cell_type": "code",
   "execution_count": 173,
   "metadata": {},
   "outputs": [
    {
     "output_type": "execute_result",
     "data": {
      "text/plain": [
       "     0    1    2    3    4    5    6    7    8\n",
       "0  0.0  inf  inf  inf  inf  inf  inf  inf  inf\n",
       "1  0.0  inf  1.0  inf  inf  inf  inf  inf  inf\n",
       "2  0.0  3.0  1.0  4.0  inf  inf  inf  inf  inf\n",
       "3  0.0  3.0  1.0  4.0  7.0  5.0  8.0  inf  inf\n",
       "4  0.0  3.0  1.0  4.0  3.0  5.0  8.0  7.0  inf"
      ],
      "text/html": "<div>\n<style scoped>\n    .dataframe tbody tr th:only-of-type {\n        vertical-align: middle;\n    }\n\n    .dataframe tbody tr th {\n        vertical-align: top;\n    }\n\n    .dataframe thead th {\n        text-align: right;\n    }\n</style>\n<table border=\"1\" class=\"dataframe\">\n  <thead>\n    <tr style=\"text-align: right;\">\n      <th></th>\n      <th>0</th>\n      <th>1</th>\n      <th>2</th>\n      <th>3</th>\n      <th>4</th>\n      <th>5</th>\n      <th>6</th>\n      <th>7</th>\n      <th>8</th>\n    </tr>\n  </thead>\n  <tbody>\n    <tr>\n      <th>0</th>\n      <td>0.0</td>\n      <td>inf</td>\n      <td>inf</td>\n      <td>inf</td>\n      <td>inf</td>\n      <td>inf</td>\n      <td>inf</td>\n      <td>inf</td>\n      <td>inf</td>\n    </tr>\n    <tr>\n      <th>1</th>\n      <td>0.0</td>\n      <td>inf</td>\n      <td>1.0</td>\n      <td>inf</td>\n      <td>inf</td>\n      <td>inf</td>\n      <td>inf</td>\n      <td>inf</td>\n      <td>inf</td>\n    </tr>\n    <tr>\n      <th>2</th>\n      <td>0.0</td>\n      <td>3.0</td>\n      <td>1.0</td>\n      <td>4.0</td>\n      <td>inf</td>\n      <td>inf</td>\n      <td>inf</td>\n      <td>inf</td>\n      <td>inf</td>\n    </tr>\n    <tr>\n      <th>3</th>\n      <td>0.0</td>\n      <td>3.0</td>\n      <td>1.0</td>\n      <td>4.0</td>\n      <td>7.0</td>\n      <td>5.0</td>\n      <td>8.0</td>\n      <td>inf</td>\n      <td>inf</td>\n    </tr>\n    <tr>\n      <th>4</th>\n      <td>0.0</td>\n      <td>3.0</td>\n      <td>1.0</td>\n      <td>4.0</td>\n      <td>3.0</td>\n      <td>5.0</td>\n      <td>8.0</td>\n      <td>7.0</td>\n      <td>inf</td>\n    </tr>\n  </tbody>\n</table>\n</div>"
     },
     "metadata": {},
     "execution_count": 173
    }
   ],
   "source": [
    "df = pd.DataFrame(data=m)\n",
    "df = df.replace(-1.0, \"inf\")\n",
    "df"
   ]
  },
  {
   "source": [
    "## Fully Polynomial-Time Approximation Scheme"
   ],
   "cell_type": "markdown",
   "metadata": {}
  },
  {
   "cell_type": "code",
   "execution_count": 176,
   "metadata": {},
   "outputs": [],
   "source": [
    "def fptas_knapsack(W, w, c, epsilon):\n",
    "    (n,) = w.shape\n",
    "\n",
    "    assert epsilon > 0\n",
    "    x = greedy_knapsack(W, c, w)\n",
    "\n",
    "    x_c = np.sum(x * c)\n",
    "\n",
    "    if x_c == 0:\n",
    "        return x\n",
    "    \n",
    "    t = max(1, (epsilon * x_c) / n)\n",
    "\n",
    "    c_bar = [math.ceil(c / float(t)) for index, c in enumerate(c)]\n",
    "\n",
    "    C = (2 * x_c) / t\n",
    "\n",
    "    _, _, _, y = dynamic_knapsack(W, int(C), w, c_bar)\n",
    "\n",
    "    y_c = np.sum(y * c)\n",
    "\n",
    "    if x_c >= y_c:\n",
    "        return x\n",
    "    else:\n",
    "        return y\n"
   ]
  },
  {
   "cell_type": "code",
   "execution_count": 177,
   "metadata": {},
   "outputs": [
    {
     "output_type": "stream",
     "name": "stdout",
     "text": [
      "[1. 0. 1. 1.]\n8.0\nm[0, 0]: 0.0 + 1 <= min(8,inf)\nm[1,2] : 1.0\nm[0, 1]: inf + 1 <= min(8,inf)\nm[1,3] : inf\nm[0, 2]: inf + 1 <= min(8,inf)\nm[1,4] : inf\nm[0, 3]: inf + 1 <= min(8,inf)\nm[1,5] : inf\nm[0, 4]: inf + 1 <= min(8,inf)\nm[1,6] : inf\nm[0, 5]: inf + 1 <= min(8,inf)\nm[1,7] : inf\nm[0, 6]: inf + 1 <= min(8,inf)\nm[1,8] : inf\nm[1, 0]: 0.0 + 3 <= min(8,inf)\nm[2,1] : 3.0\nm[1, 1]: inf + 3 <= min(8,1.0)\nm[2,2] : 1.0\nm[1, 2]: 1.0 + 3 <= min(8,inf)\nm[2,3] : 4.0\nm[1, 3]: inf + 3 <= min(8,inf)\nm[2,4] : inf\nm[1, 4]: inf + 3 <= min(8,inf)\nm[2,5] : inf\nm[1, 5]: inf + 3 <= min(8,inf)\nm[2,6] : inf\nm[1, 6]: inf + 3 <= min(8,inf)\nm[2,7] : inf\nm[1, 7]: inf + 3 <= min(8,inf)\nm[2,8] : inf\nm[2, 0]: 0.0 + 4 <= min(8,1.0)\nm[3,2] : 1.0\nm[2, 1]: 3.0 + 4 <= min(8,4.0)\nm[3,3] : 4.0\nm[2, 2]: 1.0 + 4 <= min(8,inf)\nm[3,4] : 5.0\nm[2, 3]: 4.0 + 4 <= min(8,inf)\nm[3,5] : 8.0\nm[2, 4]: inf + 4 <= min(8,inf)\nm[3,6] : inf\nm[2, 5]: inf + 4 <= min(8,inf)\nm[3,7] : inf\nm[2, 6]: inf + 4 <= min(8,inf)\nm[3,8] : inf\nm[3, 0]: 0.0 + 2 <= min(8,1.0)\nm[4,2] : 1.0\nm[3, 1]: 3.0 + 2 <= min(8,4.0)\nm[4,3] : 4.0\nm[3, 2]: 1.0 + 2 <= min(8,5.0)\nm[4,4] : 3.0\nm[3, 3]: 4.0 + 2 <= min(8,8.0)\nm[4,5] : 6.0\nm[3, 4]: 5.0 + 2 <= min(8,inf)\nm[4,6] : 7.0\nm[3, 5]: 8.0 + 2 <= min(8,inf)\nm[4,7] : inf\nm[3, 6]: inf + 2 <= min(8,inf)\nm[4,8] : inf\nCheck x[4, 5]: 1.0\nInclude item: 4\nCheck x[3, 3]: 0.0\nCheck x[2, 3]: 1.0\nInclude item: 2\nCheck x[1, 2]: 1.0\nInclude item: 1\n[1. 0. 1. 1.]\n"
     ]
    }
   ],
   "source": [
    "c = [2,1,3,2]\n",
    "c = np.array(c)\n",
    "w = [1,3,4,2]\n",
    "w = np.array(w)\n",
    "W = 8\n",
    "\n",
    "\n",
    "print(fptas_knapsack(W, w, c, 1))"
   ]
  },
  {
   "cell_type": "code",
   "execution_count": null,
   "metadata": {},
   "outputs": [],
   "source": []
  }
 ]
}